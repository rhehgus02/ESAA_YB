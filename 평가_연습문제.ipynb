{
  "nbformat": 4,
  "nbformat_minor": 0,
  "metadata": {
    "colab": {
      "provenance": [],
      "include_colab_link": true
    },
    "kernelspec": {
      "name": "python3",
      "display_name": "Python 3"
    },
    "language_info": {
      "name": "python"
    }
  },
  "cells": [
    {
      "cell_type": "markdown",
      "metadata": {
        "id": "view-in-github",
        "colab_type": "text"
      },
      "source": [
        "<a href=\"https://colab.research.google.com/github/rhehgus02/ESAA/blob/main/%ED%8F%89%EA%B0%80_%EC%97%B0%EC%8A%B5%EB%AC%B8%EC%A0%9C.ipynb\" target=\"_parent\"><img src=\"https://colab.research.google.com/assets/colab-badge.svg\" alt=\"Open In Colab\"/></a>"
      ]
    },
    {
      "cell_type": "code",
      "metadata": {
        "id": "4Zqc4O_BfWqZ"
      },
      "source": [
        "# 모듈 및 데이터 로드 \n",
        "from sklearn.datasets import load_breast_cancer \n",
        "from sklearn.linear_model import LogisticRegression \n",
        "\n",
        "data = load_breast_cancer() \n",
        "\n",
        "# x, y 데이터 생성 \n",
        "X = data.data \n",
        "\n",
        "# 악성을 1, 양성을 0으로 \n",
        "y = 1 - data.target \n",
        "\n",
        "# 특징으로 사용할 데이터를 평균으로 구분하는 10개 열로 축소\n",
        "X = X[:, :10] \n",
        "\n",
        "# 로지스틱 회귀 모델 생성 \n",
        "model_lor = LogisticRegression(solver = 'lbfgs') \n",
        "model_lor.fit(X,y) \n",
        "y_pred = model_lor.predict(X)"
      ],
      "execution_count": 1,
      "outputs": []
    },
    {
      "cell_type": "markdown",
      "metadata": {
        "id": "faoAfc1ZgAcq"
      },
      "source": [
        "* 오차 행렬(혼동 행렬) 생성"
      ]
    },
    {
      "cell_type": "code",
      "metadata": {
        "id": "JdML8YM0gBtu",
        "colab": {
          "base_uri": "https://localhost:8080/"
        },
        "outputId": "4f0fd2a3-c92b-42e6-a98c-9aa8f0e4dc0e"
      },
      "source": [
        "# 종속 변수와 예측 결과로 혼동 행렬 생성\n",
        "from sklearn.metrics import confusion_matrix\n",
        "confusion_matrix(y, y_pred)"
      ],
      "execution_count": 2,
      "outputs": [
        {
          "output_type": "execute_result",
          "data": {
            "text/plain": [
              "array([[337,  20],\n",
              "       [ 30, 182]])"
            ]
          },
          "metadata": {},
          "execution_count": 2
        }
      ]
    },
    {
      "cell_type": "markdown",
      "metadata": {
        "id": "xbcK3rT-gFRk"
      },
      "source": [
        "* 정확도"
      ]
    },
    {
      "cell_type": "code",
      "metadata": {
        "id": "NLiXFuYvgI1e",
        "colab": {
          "base_uri": "https://localhost:8080/"
        },
        "outputId": "3e9f7e5b-577d-4d97-a826-b063226bd89d"
      },
      "source": [
        "from sklearn.metrics import accuracy_score\n",
        "accuracy = accuracy_score(y, y_pred)\n",
        "print('정확도: {0:.4f}'.format(accuracy))"
      ],
      "execution_count": 10,
      "outputs": [
        {
          "output_type": "stream",
          "name": "stdout",
          "text": [
            "정확도: 0.9121\n"
          ]
        }
      ]
    },
    {
      "cell_type": "markdown",
      "metadata": {
        "id": "UYnVZS9igNNf"
      },
      "source": [
        "* 정밀도"
      ]
    },
    {
      "cell_type": "code",
      "metadata": {
        "id": "j108NueLgMKF",
        "colab": {
          "base_uri": "https://localhost:8080/"
        },
        "outputId": "ef6c48de-7720-40be-aa4b-229fba392625"
      },
      "source": [
        "from sklearn.metrics import precision_score\n",
        "precision = precision_score(y, y_pred)\n",
        "print('정밀도: {0:.4f}'.format(precision))"
      ],
      "execution_count": 15,
      "outputs": [
        {
          "output_type": "stream",
          "name": "stdout",
          "text": [
            "정밀도: 0.9010\n"
          ]
        }
      ]
    },
    {
      "cell_type": "markdown",
      "metadata": {
        "id": "2-MBquNJZOM4"
      },
      "source": [
        "* 재현율"
      ]
    },
    {
      "cell_type": "code",
      "metadata": {
        "id": "uje4ivPvZPwv",
        "colab": {
          "base_uri": "https://localhost:8080/"
        },
        "outputId": "6748dad6-5e38-4d05-eece-214ddf70d3c3"
      },
      "source": [
        "from sklearn.metrics import recall_score\n",
        "recall = recall_score(y, y_pred)\n",
        "print('재현율: {0:.4f}'.format(recall))"
      ],
      "execution_count": 13,
      "outputs": [
        {
          "output_type": "stream",
          "name": "stdout",
          "text": [
            "재현율: 0.8585\n"
          ]
        }
      ]
    },
    {
      "cell_type": "markdown",
      "metadata": {
        "id": "Cw1p3yjagUCH"
      },
      "source": [
        "* F1 score"
      ]
    },
    {
      "cell_type": "code",
      "metadata": {
        "id": "hPdtYdoDgYgV",
        "colab": {
          "base_uri": "https://localhost:8080/"
        },
        "outputId": "9868da48-7d84-4f05-a880-0aa38994f50a"
      },
      "source": [
        "from sklearn.metrics import f1_score\n",
        "f1 = f1_score(y, y_pred)\n",
        "print('F1 스코어: {0:.4f}'.format(f1))"
      ],
      "execution_count": 16,
      "outputs": [
        {
          "output_type": "stream",
          "name": "stdout",
          "text": [
            "F1 스코어: 0.8792\n"
          ]
        }
      ]
    },
    {
      "cell_type": "markdown",
      "metadata": {
        "id": "fzwIFsKOW5a1"
      },
      "source": [
        "* 예측 확률(pred_proba) : 0으로 예측할 확률이 0.1보다 크면 y_pred2 에 넣는다 가정."
      ]
    },
    {
      "cell_type": "code",
      "metadata": {
        "id": "nw9dxOiPW40l"
      },
      "source": [
        "from sklearn.preprocessing import Binarizer\n",
        "\n",
        "pred_proba = model_lor.predict_proba(X)\n",
        "pred_proba_1 = pred_proba[:, 1].reshape(-1, 1)\n",
        "binarizer = Binarizer(threshold=0.1).fit(pred_proba_1)\n",
        "y_pred2 = binarizer.transform(pred_proba_1)"
      ],
      "execution_count": 19,
      "outputs": []
    },
    {
      "cell_type": "code",
      "metadata": {
        "id": "Y-WrHrICYFB1",
        "colab": {
          "base_uri": "https://localhost:8080/"
        },
        "outputId": "5bf40ce4-8848-4108-ce75-688f5db32ab9"
      },
      "source": [
        "# y과 y_pred2의 혼동행렬, 정확도, 정밀도, 재현율, f1 score 구하기\n",
        "confusion = confusion_matrix(y, y_pred2)\n",
        "accuracy = accuracy_score(y, y_pred2)\n",
        "precision = precision_score(y, y_pred2)\n",
        "recall = recall_score(y, y_pred2)\n",
        "f1 = f1_score(y, y_pred2)\n",
        "print(\"혼동행렬:\\n\", confusion)\n",
        "print('정확도: {0:.4f}, 정밀도: {1:.4f}, 재현율: {2:.4f}, F1:{3:.4f}'.format(accuracy, precision, recall, f1))"
      ],
      "execution_count": 24,
      "outputs": [
        {
          "output_type": "stream",
          "name": "stdout",
          "text": [
            "혼동행렬:\n",
            " [[267  90]\n",
            " [  6 206]]\n",
            "정확도: 0.8313, 정밀도: 0.6959, 재현율: 0.9717, F1:0.8110\n"
          ]
        }
      ]
    },
    {
      "cell_type": "markdown",
      "metadata": {
        "id": "itgf_OjsjU-R"
      },
      "source": [
        "* ROC 곡선 시각화"
      ]
    },
    {
      "cell_type": "code",
      "metadata": {
        "id": "DW75xBokjXKy"
      },
      "source": [
        "from sklearn.metrics import roc_curve \n",
        "pred_proba_class1 = model_lor.predict_proba(X)[:, 1]\n",
        "fprs, tprs, thresholds = roc_curve(y, pred_proba_class1)"
      ],
      "execution_count": 29,
      "outputs": []
    },
    {
      "cell_type": "code",
      "metadata": {
        "id": "CSJ69SGJVh7m",
        "colab": {
          "base_uri": "https://localhost:8080/",
          "height": 468
        },
        "outputId": "610c2f83-ebae-44b3-ab2d-d174465cb04f"
      },
      "source": [
        "import matplotlib.pyplot as plt \n",
        "plt.plot(fprs, tprs, label='ROC')\n",
        "plt.xlabel('FPR'); plt.ylabel('TPR')\n",
        "plt.legend()"
      ],
      "execution_count": 32,
      "outputs": [
        {
          "output_type": "execute_result",
          "data": {
            "text/plain": [
              "<matplotlib.legend.Legend at 0x7f7eefd66a60>"
            ]
          },
          "metadata": {},
          "execution_count": 32
        },
        {
          "output_type": "display_data",
          "data": {
            "text/plain": [
              "<Figure size 640x480 with 1 Axes>"
            ],
            "image/png": "[encoded data removed]"
          },
          "metadata": {}
        }
      ]
    },
    {
      "cell_type": "markdown",
      "metadata": {
        "id": "fL4as0YsWYD7"
      },
      "source": [
        "* ROC AUC 값"
      ]
    },
    {
      "cell_type": "code",
      "metadata": {
        "id": "-SEElVZTWaVp",
        "colab": {
          "base_uri": "https://localhost:8080/"
        },
        "outputId": "46567171-d645-4c4c-cd05-d40ae62fbcde"
      },
      "source": [
        "from sklearn.metrics import roc_auc_score\n",
        "roc_auc = roc_auc_score(y, pred_proba_class1) # 두번째 인자 조심\n",
        "print('AUC: {0:.4f}'.format(roc_auc))"
      ],
      "execution_count": 33,
      "outputs": [
        {
          "output_type": "stream",
          "name": "stdout",
          "text": [
            "AUC: 0.9741\n"
          ]
        }
      ]
    }
  ]
}