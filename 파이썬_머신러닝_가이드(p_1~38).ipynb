{
  "nbformat": 4,
  "nbformat_minor": 0,
  "metadata": {
    "colab": {
      "provenance": [],
      "collapsed_sections": [
        "DCXE4ynmXN48",
        "ImOdNUSqidU_",
        "kmSap715CY-6"
      ],
      "authorship_tag": "ABX9TyOgmSLYffnJKSDtpraBzqTp",
      "include_colab_link": true
    },
    "kernelspec": {
      "name": "python3",
      "display_name": "Python 3"
    },
    "language_info": {
      "name": "python"
    }
  },
  "cells": [
    {
      "cell_type": "markdown",
      "metadata": {
        "id": "view-in-github",
        "colab_type": "text"
      },
      "source": [
        "<a href=\"https://colab.research.google.com/github/rhehgus02/ESAA/blob/main/%ED%8C%8C%EC%9D%B4%EC%8D%AC_%EB%A8%B8%EC%8B%A0%EB%9F%AC%EB%8B%9D_%EA%B0%80%EC%9D%B4%EB%93%9C(p_1~38).ipynb\" target=\"_parent\"><img src=\"https://colab.research.google.com/assets/colab-badge.svg\" alt=\"Open In Colab\"/></a>"
      ]
    },
    {
      "cell_type": "markdown",
      "source": [
        "# **<01> 머신러닝의 개념**\n",
        "\n",
        " \n",
        "\n",
        "*  머신러닝: 애플리케이션을 수정하지 않고도 데이터를 기반으로 패턴을 학습하고 결과를 예측하는 알고리즘 기법 ex) 금융 사기 거래를 적발하는 프로그램\n",
        "\n",
        "*   머신러닝의 특징:\n",
        "    * 데이터를 기반으로 숨겨진 패턴을 스스로 인지하고 신뢰도 있는 예측 결과를 도출해 냄\n",
        "    * 데이터를 기반으로 통계적인 신뢰도를 강화하고 예측 오류를 최소화하기 위한 다양한 수학적 기법을 적용시킴\n",
        "\n",
        "\n",
        "---\n",
        "\n",
        "#### **1. 머신러닝의 분류**\n",
        "\n",
        "1) 지도학습\n",
        "\n",
        "* 분류\n",
        "* 회귀\n",
        "* 추천시스템\n",
        "* 시각/음성 감지/인지\n",
        "* 텍스트 분석, NLP\n",
        "\n",
        "2) 비지도학습\n",
        "* 클러스터링\n",
        "* 차원 축소\n",
        "* 강화학습\n",
        "\n",
        "\n",
        "---\n",
        "\n",
        "\n",
        "\n",
        "#### **2. 데이터 전쟁**\n",
        "\n",
        "* 데이터 vs 머신러닝 알고리즘\n",
        "\n",
        "    -> 머신러닝의 데이터에 매우 의존적이기 때문에 좋은 품질의 데이터를 갖추지 못한다면 머신러닝의 수행 결과도 좋을 수 없음\n",
        "\n",
        "    -> 그러므로 최적의 머신러닝 알고리즘과 모델 파라미터를 구축하는 능력도 중요하지만 데이터를 이해하고 효율적으로 가공, 처리, 추출해 최적의 데이터를 갖추는 것이 더 중요함\n",
        "\n",
        "---\n",
        "\n",
        "#### **3. 파이썬과 R 기반의 머신러닝 비교**\n",
        "\n",
        "* 머신러닝 프로그램을 작성할 수 있는 대표적인 오픈 소스 프로그램: 파이썬, R\n",
        "\n",
        "* R\n",
        "    * 통계 전용 프로그램 언어\n",
        "    * 다양한 많은 통계 패키지를 보유\n",
        "     \n",
        "     -> 개발 언어에 익숙하지 않으나 통계 분석에 능한 현업 사용자에게 추천\n",
        "\n",
        "* 파이썬\n",
        "    * 다양한 영역에서 사용되는 개발 전문 프로그램 언어\n",
        "    * 직관적인 문법과 객체지향과 함수형 프로그래밍을 모두 포괄\n",
        "    * 파이썬에 대한 관심이 급격히 증가했으며 프로그래밍 세계를 점령하고 있음\n",
        "     \n",
        "     -> 이제 머신러닝을 시작하거나 개발자라면 R보다는 파이썬 추천"
      ],
      "metadata": {
        "id": "DCXE4ynmXN48"
      }
    },
    {
      "cell_type": "markdown",
      "source": [
        "---\n",
        "\n",
        "# **<02> 파이썬 머신러닝 생태계를 구성하는 주요 패키지**\n",
        "\n",
        "* 머신러닝 패키지: 사이킷런(데이터 마이닝 기반)\n",
        "\n",
        "* 딥러닝 패키지: 텐서플로, 케라스\n",
        "\n",
        "* 행렬/선행대수/통계 패키지: 넘파이(행렬과 선행대수), 사이파이(통계 패키지)\n",
        "\n",
        "* 데이터 핸들링: 판다스(2차원 데이터 처리)\n",
        "\n",
        "* 시각화: 맷플롯립, 시본(맷플롯립을 보완)\n"
      ],
      "metadata": {
        "id": "ImOdNUSqidU_"
      }
    },
    {
      "cell_type": "markdown",
      "source": [
        "---\n",
        "\n",
        "# **<03> 넘파이**\n",
        "\n",
        "*  넘파이: 파이썬에서 선형대수 기반의 프로그램을 쉽게 만들 수 있도록 지원하는 대표적인 패키지\n",
        "\n",
        "* C/C++과 같은 저수준 언어 기반의 호환 API 제공\n",
        "\n",
        "* 빠른 배열 연산 속도 보장\n",
        "\n",
        "* 다양한 데이터 핸들링 기능을 제공하지만 판다스의 편리성에는 미치지 못함\n",
        "\n",
        "* 머신러닝 알고리즘이 넘파이 기반으로 작성돼 있으므로 넘파이를 이해하는 것은 파이썬 기반의 머신러닝에서 매우 중요\n",
        "\n",
        "---\n",
        "\n",
        "#### **1. 넘파이 ndarray 개요**\n",
        "\n",
        "1) 넘파이 모듈 임포트:  `import numpy as np`\n",
        "\n",
        "2) 넘파이 기반 데이터 타입: ndarray\n",
        "\n",
        "3) `np.array()` 함수: 다양한 인자를 입력 받아서 ndarray로 변환\n",
        "\n",
        "4) `ndarray.shape`: ndarray의 차원과 크기를 튜플 형태로 나타냄\n",
        "\n",
        "5) `ndarray.ndim`: 각 ndarray의 차원을 나타냄"
      ],
      "metadata": {
        "id": "HjSX6dnfmFft"
      }
    },
    {
      "cell_type": "code",
      "source": [
        "import numpy as np"
      ],
      "metadata": {
        "id": "A3ljMotyd7nb"
      },
      "execution_count": 22,
      "outputs": []
    },
    {
      "cell_type": "code",
      "source": [
        "array1 = np.array([1, 2, 3])\n",
        "print('array1 type:', type(array1))\n",
        "print('array1 array 형태:', array1.shape)\n",
        "\n",
        "array2 = np.array([[1, 2, 3],\n",
        "                  [2, 3, 4]])\n",
        "print('array2 type:', type(array2))\n",
        "print('array2 array 형태:', array2.shape)\n",
        "\n",
        "array3 = np.array([[1, 2, 3]])\n",
        "print('array3 type:', type(array3))\n",
        "print('array3 array 형태:', array3.shape)"
      ],
      "metadata": {
        "colab": {
          "base_uri": "https://localhost:8080/"
        },
        "id": "j6z_PUd6bEjR",
        "outputId": "446a32d0-d73e-4feb-f342-60169b972f6b"
      },
      "execution_count": 23,
      "outputs": [
        {
          "output_type": "stream",
          "name": "stdout",
          "text": [
            "array1 type: <class 'numpy.ndarray'>\n",
            "array1 array 형태: (3,)\n",
            "array2 type: <class 'numpy.ndarray'>\n",
            "array2 array 형태: (2, 3)\n",
            "array3 type: <class 'numpy.ndarray'>\n",
            "array3 array 형태: (1, 3)\n"
          ]
        }
      ]
    },
    {
      "cell_type": "markdown",
      "source": [
        "\n",
        "\n",
        ">> `shape (3, )`: 1차원, 3개의 데이터 \n",
        "\n",
        ">> `shape (2, 3)`: 2차원, 2행 3열, 6개의 데이터\n",
        "\n"
      ],
      "metadata": {
        "id": "7LyINrqRr2NJ"
      }
    },
    {
      "cell_type": "code",
      "source": [
        "print('array1: {:0}차원, array2: {:1}차원, array3: {:2}차원'.format(array1.ndim,\n",
        "                                                                array2.ndim,array3.ndim))"
      ],
      "metadata": {
        "colab": {
          "base_uri": "https://localhost:8080/"
        },
        "id": "WxAxFEGHevIe",
        "outputId": "d8b7318a-efae-4792-dec6-e9923a5cc6c8"
      },
      "execution_count": 24,
      "outputs": [
        {
          "output_type": "stream",
          "name": "stdout",
          "text": [
            "array1: 1차원, array2: 2차원, array3:  2차원\n"
          ]
        }
      ]
    },
    {
      "cell_type": "markdown",
      "source": [
        "\n",
        "\n",
        ">> 리스트 [     ]: 1차원\n",
        "\n",
        ">> 리스트 [[      ]] : 2차원\n",
        "\n"
      ],
      "metadata": {
        "id": "rdnol-FZugVJ"
      }
    },
    {
      "cell_type": "markdown",
      "source": [
        "---\n",
        "#### **2. ndarray의 데이터 타입**\n",
        "\n",
        "* ndarray내 데이터값: 숫자, 문자열, 불 모두 가능\n",
        "\n",
        "    * 리스트와 다르게 같은 데이터 타입끼리만 가능\n",
        " \n",
        "   -> 다른 데이터 유형이 함께 있는 리스트를 ndarray로 변경하면 데이터 크기가 더 큰 타입으로 형 변환 \n",
        "\n",
        "1) `dtype`: ndarray의 데이터 타입 확인\n",
        "\n",
        "2) `astype()`: ndarray내 데이터 타입을 변경"
      ],
      "metadata": {
        "id": "1bx5c_9NuxGI"
      }
    },
    {
      "cell_type": "code",
      "source": [
        "list1 = [1, 2, 3]\n",
        "print(type(list1))\n",
        "array1 = np.array(list1)\n",
        "print(type(array1))\n",
        "print(array1, array1.dtype)"
      ],
      "metadata": {
        "colab": {
          "base_uri": "https://localhost:8080/"
        },
        "id": "FONx69IlfKrr",
        "outputId": "6008119e-bae7-4f49-89d2-ac4177381745"
      },
      "execution_count": 25,
      "outputs": [
        {
          "output_type": "stream",
          "name": "stdout",
          "text": [
            "<class 'list'>\n",
            "<class 'numpy.ndarray'>\n",
            "[1 2 3] int64\n"
          ]
        }
      ]
    },
    {
      "cell_type": "code",
      "source": [
        "list2 = [1, 2, 'test']\n",
        "array2 = np.array(list2)\n",
        "print(array2, array2.dtype)\n",
        "\n",
        "list3=[1, 2, 3.0]\n",
        "array3 = np.array(list3)\n",
        "print(array3, array3.dtype)"
      ],
      "metadata": {
        "colab": {
          "base_uri": "https://localhost:8080/"
        },
        "id": "ap9882J1fcLp",
        "outputId": "2f264a2e-31d5-496f-a290-cb4a525d3065"
      },
      "execution_count": 26,
      "outputs": [
        {
          "output_type": "stream",
          "name": "stdout",
          "text": [
            "['1' '2' 'test'] <U21\n",
            "[1. 2. 3.] float64\n"
          ]
        }
      ]
    },
    {
      "cell_type": "markdown",
      "source": [
        ">> int형 + 문자열  ->  모두 유니코드 문자열\n",
        "\n",
        ">> int형 + float형 -> 모두 float64형  "
      ],
      "metadata": {
        "id": "2wAMnhkM4vJv"
      }
    },
    {
      "cell_type": "code",
      "source": [
        "array_int = np.array([1,2,3])\n",
        "array_float = array_int.astype('float64') \n",
        "print(array_float, array_float.dtype)\n",
        "\n",
        "array_int1 = array_float.astype('int32') \n",
        "print(array_int1, array_int1.dtype)\n",
        "\n",
        "array_float1 = np.array([1.1, 2.1, 3.1]) \n",
        "array_int2 = array_float1.astype('int32') \n",
        "print(array_int2, array_int2.dtype)"
      ],
      "metadata": {
        "id": "jkObxqxpgJS3",
        "colab": {
          "base_uri": "https://localhost:8080/"
        },
        "outputId": "da13a275-8fa6-4315-d6fa-d61d5e6db911"
      },
      "execution_count": 27,
      "outputs": [
        {
          "output_type": "stream",
          "name": "stdout",
          "text": [
            "[1. 2. 3.] float64\n",
            "[1 2 3] int32\n",
            "[1 2 3] int32\n"
          ]
        }
      ]
    },
    {
      "cell_type": "markdown",
      "source": [
        ">> float를 int형으로 변경할 때는 소수점 이하 절삭"
      ],
      "metadata": {
        "id": "EoPGeY-556V3"
      }
    },
    {
      "cell_type": "markdown",
      "source": [
        "---\n",
        "\n",
        "#### **3. ndarray를 편리하게 생성하기 - arange, zeros, ones**\n",
        "\n",
        "1) `arange(n)`: 0부터 (n-1)까지의 값을 순차적으로 ndarray의 데이터 값으로 변환\n",
        "\n",
        "2) `zeros()`: 함수 인자로 튜플 형태의 shape 값을 입력하면 해당 shape를 모두 0으로 채운 ndarray 반환\n",
        "\n",
        "3) `ones()`: `zeros()`와 같지만 값을 모두 1로 채움 "
      ],
      "metadata": {
        "id": "q6FimCYN6BkZ"
      }
    },
    {
      "cell_type": "code",
      "source": [
        "sequence_array = np.arange(10)\n",
        "print(sequence_array)\n",
        "print(sequence_array.dtype, sequence_array.shape)"
      ],
      "metadata": {
        "colab": {
          "base_uri": "https://localhost:8080/"
        },
        "id": "Q5hyc0ia6n_v",
        "outputId": "623978a3-c18b-4997-b5c6-fc199f4d869f"
      },
      "execution_count": 28,
      "outputs": [
        {
          "output_type": "stream",
          "name": "stdout",
          "text": [
            "[0 1 2 3 4 5 6 7 8 9]\n",
            "int64 (10,)\n"
          ]
        }
      ]
    },
    {
      "cell_type": "markdown",
      "source": [
        ">> 0부터 (stop-1)인 9까지의 연속 숫가 값으로 구성된 1차원 ndarray 생성\n",
        "\n",
        ">> `range()`와 유사하게 start 값도 부여할 수 있음"
      ],
      "metadata": {
        "id": "UHy2wqxR62Tq"
      }
    },
    {
      "cell_type": "code",
      "source": [
        "zero_array = np.zeros((3, 2), dtype = 'int32')\n",
        "print(zero_array)\n",
        "print(zero_array.dtype, zero_array.shape)\n",
        "\n",
        "one_array = np.ones((3, 2))\n",
        "print(one_array)\n",
        "print(one_array.dtype, one_array.shape)"
      ],
      "metadata": {
        "colab": {
          "base_uri": "https://localhost:8080/"
        },
        "id": "seDN8uCh743v",
        "outputId": "ee58dd9d-fe10-4fb7-fe81-08c302ac38a1"
      },
      "execution_count": 29,
      "outputs": [
        {
          "output_type": "stream",
          "name": "stdout",
          "text": [
            "[[0 0]\n",
            " [0 0]\n",
            " [0 0]]\n",
            "int32 (3, 2)\n",
            "[[1. 1.]\n",
            " [1. 1.]\n",
            " [1. 1.]]\n",
            "float64 (3, 2)\n"
          ]
        }
      ]
    },
    {
      "cell_type": "markdown",
      "source": [
        ">> 함수 인자로 dtype을 정해주지 않았을 때 default 데이터 타입: float64형"
      ],
      "metadata": {
        "id": "rXjCGp498QFN"
      }
    },
    {
      "cell_type": "markdown",
      "source": [
        "---\n",
        "#### **4. ndarray의 차원과 크기를 변경하는 reshape()**\n",
        "\n",
        "1) `reshape()`: ndarray를 특정 차원 및 크기로 변환\n",
        "\n",
        "* !! -1 인자를 사용하면 다른 고정값에 맞게 ndarray를 변환시킴 !!\n",
        "\n",
        "2) `reshape(-1, 1)`: 2차원이며 1개의 열을 가진 ndarray로 변환됨\n",
        "\n",
        "3) `tolist()`: ndarray를 리스트 자료형으로 변환"
      ],
      "metadata": {
        "id": "NG-NNPXf8hb6"
      }
    },
    {
      "cell_type": "code",
      "source": [
        "array1 = np.arange(10)\n",
        "print('array1:\\n', array1)\n",
        "\n",
        "array2 = array1.reshape(2,5)\n",
        "print('array2:\\n', array2)\n",
        "\n",
        "array3 = array1.reshape(5,2)\n",
        "print('array3:\\n', array3)"
      ],
      "metadata": {
        "colab": {
          "base_uri": "https://localhost:8080/"
        },
        "id": "oTJp1wR586qT",
        "outputId": "21bdacd2-b5e5-4b33-f6f8-12e6d91c658d"
      },
      "execution_count": 30,
      "outputs": [
        {
          "output_type": "stream",
          "name": "stdout",
          "text": [
            "array1:\n",
            " [0 1 2 3 4 5 6 7 8 9]\n",
            "array2:\n",
            " [[0 1 2 3 4]\n",
            " [5 6 7 8 9]]\n",
            "array3:\n",
            " [[0 1]\n",
            " [2 3]\n",
            " [4 5]\n",
            " [6 7]\n",
            " [8 9]]\n"
          ]
        }
      ]
    },
    {
      "cell_type": "code",
      "source": [
        "array1.reshape(4,3)"
      ],
      "metadata": {
        "colab": {
          "base_uri": "https://localhost:8080/",
          "height": 174
        },
        "id": "G6EHifos9HVu",
        "outputId": "02142140-a896-4cc1-c1ee-4b1925e7c3d1"
      },
      "execution_count": 31,
      "outputs": [
        {
          "output_type": "error",
          "ename": "ValueError",
          "evalue": "ignored",
          "traceback": [
            "\u001b[0;31m---------------------------------------------------------------------------\u001b[0m",
            "\u001b[0;31mValueError\u001b[0m                                Traceback (most recent call last)",
            "\u001b[0;32m<ipython-input-31-a40469ec5825>\u001b[0m in \u001b[0;36m<module>\u001b[0;34m\u001b[0m\n\u001b[0;32m----> 1\u001b[0;31m \u001b[0marray1\u001b[0m\u001b[0;34m.\u001b[0m\u001b[0mreshape\u001b[0m\u001b[0;34m(\u001b[0m\u001b[0;36m4\u001b[0m\u001b[0;34m,\u001b[0m\u001b[0;36m3\u001b[0m\u001b[0;34m)\u001b[0m\u001b[0;34m\u001b[0m\u001b[0;34m\u001b[0m\u001b[0m\n\u001b[0m",
            "\u001b[0;31mValueError\u001b[0m: cannot reshape array of size 10 into shape (4,3)"
          ]
        }
      ]
    },
    {
      "cell_type": "markdown",
      "source": [
        ">> 지정된 사이즈로 변경이 불가능하면 오류 발생"
      ],
      "metadata": {
        "id": "NGgk8_bd9K8I"
      }
    },
    {
      "cell_type": "code",
      "source": [
        "array1 = np.arange(10)\n",
        "print(array1)\n",
        "\n",
        "array2 = array1.reshape(-1, 5)\n",
        "print('array2 shape:', array2.shape)\n",
        "\n",
        "array3 = array1.reshape(5, -1)\n",
        "print('array3 shape', array3.shape)"
      ],
      "metadata": {
        "colab": {
          "base_uri": "https://localhost:8080/"
        },
        "id": "mD1ZpYUT95XW",
        "outputId": "dba094d8-d376-4163-fd74-523146242344"
      },
      "execution_count": 32,
      "outputs": [
        {
          "output_type": "stream",
          "name": "stdout",
          "text": [
            "[0 1 2 3 4 5 6 7 8 9]\n",
            "array2 shape: (2, 5)\n",
            "array3 shape (5, 2)\n"
          ]
        }
      ]
    },
    {
      "cell_type": "markdown",
      "source": [
        ">> `array1.reshape(-1, 5)`에서 고정값이 5이므로 열의 수를 5로 고정하고, 이에 맞게 행의 수를 2로 변환시킴\n",
        "\n",
        ">> `array2.reshape(5, -1)`에서 고정값이 5이므로 행의 수를 5로 고정하고, 이에 맞게 열의 수를 2로 변환시킴"
      ],
      "metadata": {
        "id": "HyYjtTMG-LHH"
      }
    },
    {
      "cell_type": "code",
      "source": [
        "array1 = np.arange(10)\n",
        "array4 = array1.reshape(-1, 4)"
      ],
      "metadata": {
        "colab": {
          "base_uri": "https://localhost:8080/",
          "height": 193
        },
        "id": "BFxPUzQc-nc3",
        "outputId": "7056b468-faab-4770-8145-aad5299099c3"
      },
      "execution_count": 33,
      "outputs": [
        {
          "output_type": "error",
          "ename": "ValueError",
          "evalue": "ignored",
          "traceback": [
            "\u001b[0;31m---------------------------------------------------------------------------\u001b[0m",
            "\u001b[0;31mValueError\u001b[0m                                Traceback (most recent call last)",
            "\u001b[0;32m<ipython-input-33-474c3d9b15cb>\u001b[0m in \u001b[0;36m<module>\u001b[0;34m\u001b[0m\n\u001b[1;32m      1\u001b[0m \u001b[0marray1\u001b[0m \u001b[0;34m=\u001b[0m \u001b[0mnp\u001b[0m\u001b[0;34m.\u001b[0m\u001b[0marange\u001b[0m\u001b[0;34m(\u001b[0m\u001b[0;36m10\u001b[0m\u001b[0;34m)\u001b[0m\u001b[0;34m\u001b[0m\u001b[0;34m\u001b[0m\u001b[0m\n\u001b[0;32m----> 2\u001b[0;31m \u001b[0marray4\u001b[0m \u001b[0;34m=\u001b[0m \u001b[0marray1\u001b[0m\u001b[0;34m.\u001b[0m\u001b[0mreshape\u001b[0m\u001b[0;34m(\u001b[0m\u001b[0;34m-\u001b[0m\u001b[0;36m1\u001b[0m\u001b[0;34m,\u001b[0m \u001b[0;36m4\u001b[0m\u001b[0;34m)\u001b[0m\u001b[0;34m\u001b[0m\u001b[0;34m\u001b[0m\u001b[0m\n\u001b[0m",
            "\u001b[0;31mValueError\u001b[0m: cannot reshape array of size 10 into shape (4)"
          ]
        }
      ]
    },
    {
      "cell_type": "markdown",
      "source": [
        ">> 열의 고정값이 4일 때는 크기가 10인 ndarray를 만들 수 없으므로 오류 발생"
      ],
      "metadata": {
        "id": "CL6ArBPQ-w1O"
      }
    },
    {
      "cell_type": "code",
      "source": [
        "array1 = np.arange(8)\n",
        "array3d = array1.reshape((2, 2, 2)) \n",
        "print('array3d: \\n', array3d.tolist())\n",
        "print()\n",
        "\n",
        "# 3차원 ndarray를 2차원으로 변환\n",
        "array5 = array3d.reshape(-1, 1)\n",
        "print('array5:\\n', array5.tolist()) \n",
        "print('array5 shape:', array5.shape)\n",
        "print()\n",
        "\n",
        "# 1차원 ndarray를 2차원으로 변환\n",
        "array6 = array1.reshape(-1,1)\n",
        "print('array6:\\n', array6.tolist()) \n",
        "print('array6 shape:', array6.shape)"
      ],
      "metadata": {
        "colab": {
          "base_uri": "https://localhost:8080/"
        },
        "id": "6BU-Lf8RBpCb",
        "outputId": "b120669b-4d5d-4599-f418-bbb67e09e425"
      },
      "execution_count": 34,
      "outputs": [
        {
          "output_type": "stream",
          "name": "stdout",
          "text": [
            "array3d: \n",
            " [[[0, 1], [2, 3]], [[4, 5], [6, 7]]]\n",
            "\n",
            "array5:\n",
            " [[0], [1], [2], [3], [4], [5], [6], [7]]\n",
            "array5 shape: (8, 1)\n",
            "\n",
            "array6:\n",
            " [[0], [1], [2], [3], [4], [5], [6], [7]]\n",
            "array6 shape: (8, 1)\n"
          ]
        }
      ]
    },
    {
      "cell_type": "markdown",
      "source": [
        ">> `reshape(-1, 1)`을 이용해 3차원을 2차원으로, 1차원을 2차원으로 변경"
      ],
      "metadata": {
        "id": "DgtMLO9jCPfL"
      }
    },
    {
      "cell_type": "markdown",
      "source": [
        "---\n",
        "\n",
        "#### **5. 넘파이의 ndarray의 데이터 세트 선택하기 - 인덱싱(Indexing)**\n",
        "\n",
        "1) 특정한 데이터만 추출: 원하는 위치의 인덱스 값을 지정하면 해당 위치의 데이터 반환\n",
        "* [  ]안에 인덱스 값 입력\n",
        "\n",
        "2) 슬라이싱: 연속된 인덱스상의 데이터 추출\n",
        "* [a:b] : a 인덱스부터 (b-1) 인덱스까지 데이터 반환\n",
        "\n",
        "3) 팬시 인덱싱: 일정한 인덱스 집합을 리스트 또는 ndarray 형태로 지정하면 해당 위치에 있는 데이터 반환\n",
        "\n",
        "4) 불린 인덱싱: 특정 조건에 따른 True/False 값 집합을 기준으로 True에 해당하는 인덱스 위치에 있는 데이터 반환"
      ],
      "metadata": {
        "id": "kmSap715CY-6"
      }
    },
    {
      "cell_type": "markdown",
      "source": [
        "---\n",
        "\n",
        "#### **5-1. 단일 값 추출**\n",
        "\n",
        "* axis0: 행 방향의 축\n",
        "\n",
        "* axis1: 열 방향의 축"
      ],
      "metadata": {
        "id": "19MJ-LViH-TJ"
      }
    },
    {
      "cell_type": "code",
      "source": [
        "# 1부터 9까지의 1차원 ndarray 생성\n",
        "array1 = np.arange(start=1, stop=10)\n",
        "print('array1:', array1)\n",
        "\n",
        "# index는 0부터 시작하므로 array1[2]는 3번째 index 위치의 데이터값을 의미\n",
        "value = array1[2] \n",
        "print('value:', value)\n",
        "print(type(value))"
      ],
      "metadata": {
        "colab": {
          "base_uri": "https://localhost:8080/"
        },
        "id": "uvs269tGDgdY",
        "outputId": "c7bfde58-ac13-4ec9-e038-025ee04fa8be"
      },
      "execution_count": 35,
      "outputs": [
        {
          "output_type": "stream",
          "name": "stdout",
          "text": [
            "array1: [1 2 3 4 5 6 7 8 9]\n",
            "value: 3\n",
            "<class 'numpy.int64'>\n"
          ]
        }
      ]
    },
    {
      "cell_type": "markdown",
      "source": [
        ">> 인덱스는 0부터 시작하므로 `array1[2]`는 3번째 인덱스 위치의 데이터 값 반환\n",
        "\n"
      ],
      "metadata": {
        "id": "KXS_fWvEFzox"
      }
    },
    {
      "cell_type": "code",
      "source": [
        "print('맨 뒤의 값:', array1[-1], '맨 뒤에서 두 번째 값:', array1[-2])"
      ],
      "metadata": {
        "colab": {
          "base_uri": "https://localhost:8080/"
        },
        "id": "809VUYkCFhwi",
        "outputId": "49f329c2-19a3-4823-82fd-13ce9918978c"
      },
      "execution_count": 36,
      "outputs": [
        {
          "output_type": "stream",
          "name": "stdout",
          "text": [
            "맨 뒤의 값: 9 맨 뒤에서 두 번째 값: 8\n"
          ]
        }
      ]
    },
    {
      "cell_type": "markdown",
      "source": [
        ">> 마이너스 기호 이용 시 뒤에서부터 데이터 추출\n",
        "\n",
        ">> 인덱스 [-1]은 뒤에서 첫 번째 데이터"
      ],
      "metadata": {
        "id": "hETRpdadFwlp"
      }
    },
    {
      "cell_type": "code",
      "source": [
        "array1[0] = 9\n",
        "array1[8] = 0\n",
        "print('array1:', array1)"
      ],
      "metadata": {
        "colab": {
          "base_uri": "https://localhost:8080/"
        },
        "id": "z6fY1BLGGMPN",
        "outputId": "5fa2800d-cb3c-4e15-b954-f67a5cf0b024"
      },
      "execution_count": 37,
      "outputs": [
        {
          "output_type": "stream",
          "name": "stdout",
          "text": [
            "array1: [9 2 3 4 5 6 7 8 0]\n"
          ]
        }
      ]
    },
    {
      "cell_type": "markdown",
      "source": [
        ">> 단일 인덱스를 이용해 ndarray내의 데이터 값을 간단히 수정 가능"
      ],
      "metadata": {
        "id": "bneXq_yJGUXr"
      }
    },
    {
      "cell_type": "code",
      "source": [
        "array1d = np.arange(start=1, stop=10)\n",
        "array2d = array1d.reshape(3, 3)\n",
        "print(array2d)\n",
        "\n",
        "print('(row=0, col=0) index 가리키는 값:', array2d[0, 0])\n",
        "print('(row=0, col=1) index 가리키는 값:', array2d[0, 1])\n",
        "print('(row=1, col=0) index 가리키는 값:', array2d[1, 0])\n",
        "print('(row=2, col=2) index 가리키는 값:', array2d[2, 2])"
      ],
      "metadata": {
        "colab": {
          "base_uri": "https://localhost:8080/"
        },
        "id": "wHW7vX3zGxoj",
        "outputId": "e0136a49-c23d-4211-da87-7cdcda679fd8"
      },
      "execution_count": 38,
      "outputs": [
        {
          "output_type": "stream",
          "name": "stdout",
          "text": [
            "[[1 2 3]\n",
            " [4 5 6]\n",
            " [7 8 9]]\n",
            "(row=0, col=0) index 가리키는 값: 1\n",
            "(row=0, col=1) index 가리키는 값: 2\n",
            "(row=1, col=0) index 가리키는 값: 4\n",
            "(row=2, col=2) index 가리키는 값: 9\n"
          ]
        }
      ]
    },
    {
      "cell_type": "markdown",
      "source": [
        ">> 다차원 ndarray에서 단일 값 추출\n",
        "\n",
        ">> `array[0, 1]`: 첫 번째 행, 두 번째 열의 값 추출\n",
        "\n",
        ">> (row=0, col=1)은 사실 [axis0=0, axis1=1]"
      ],
      "metadata": {
        "id": "EFiNszp9G67h"
      }
    },
    {
      "cell_type": "markdown",
      "source": [
        "---\n",
        "\n",
        "#### **5-2. 슬라이싱**"
      ],
      "metadata": {
        "id": "8-pml12VILcj"
      }
    },
    {
      "cell_type": "code",
      "source": [
        "array1 = np.arange(start=1, stop=10)\n",
        "array3 = array1[0:3]\n",
        "print(array3)\n",
        "print(type(array3))"
      ],
      "metadata": {
        "colab": {
          "base_uri": "https://localhost:8080/"
        },
        "id": "zOB5hX0gLDfg",
        "outputId": "c1205d99-4314-47cb-d60d-169818a0a8a7"
      },
      "execution_count": 39,
      "outputs": [
        {
          "output_type": "stream",
          "name": "stdout",
          "text": [
            "[1 2 3]\n",
            "<class 'numpy.ndarray'>\n"
          ]
        }
      ]
    },
    {
      "cell_type": "code",
      "source": [
        "array1 = np.arange(start=1, stop=10)\n",
        "array4 = array1[:3]\n",
        "print(array4)\n",
        "\n",
        "array5=array1[3:]\n",
        "print(array5)\n",
        "\n",
        "array6=array1[:]\n",
        "print(array6)"
      ],
      "metadata": {
        "colab": {
          "base_uri": "https://localhost:8080/"
        },
        "id": "bSEv3SyXLesa",
        "outputId": "e2272a2f-610b-4c09-9737-587b8a0a0c04"
      },
      "execution_count": 40,
      "outputs": [
        {
          "output_type": "stream",
          "name": "stdout",
          "text": [
            "[1 2 3]\n",
            "[4 5 6 7 8 9]\n",
            "[1 2 3 4 5 6 7 8 9]\n"
          ]
        }
      ]
    },
    {
      "cell_type": "markdown",
      "source": [
        ">> ':' 기호 앞 시작 인덱스 생략하면 자동으로 맨 처음 인덱스인 0으로 간주\n",
        "\n",
        ">> ':' 기호 뒤 종료 인덱스를 생략하면 자동으로 맨 마지막 인덱스로 간주"
      ],
      "metadata": {
        "id": "SJwDKNAoMM36"
      }
    },
    {
      "cell_type": "code",
      "source": [
        "array1d = np.arange(start=1, stop=10)\n",
        "array2d = array1d.reshape(3, 3)\n",
        "print('array2d:\\n', array2d)\n",
        "\n",
        "print('array2d[0:2, 0:2]\\n', array2d[0:2, 0:2])\n",
        "print('array2d[1:3, 0:3]\\n', array2d[1:3, 0:3])\n",
        "print('array2d[1:3, :]\\n', array2d[1:3, :])\n",
        "print('array2d[:, :]\\n', array2d[:, :])\n",
        "print('array2d[:2, 1:]\\n', array2d[:2, 1:])\n",
        "print('array2d[:2, 0]\\n', array2d[:2, 0])"
      ],
      "metadata": {
        "colab": {
          "base_uri": "https://localhost:8080/"
        },
        "id": "GEIoU0e6GeHq",
        "outputId": "a877fb20-7f5f-4be3-f43f-103932feee67"
      },
      "execution_count": 41,
      "outputs": [
        {
          "output_type": "stream",
          "name": "stdout",
          "text": [
            "array2d:\n",
            " [[1 2 3]\n",
            " [4 5 6]\n",
            " [7 8 9]]\n",
            "array2d[0:2, 0:2]\n",
            " [[1 2]\n",
            " [4 5]]\n",
            "array2d[1:3, 0:3]\n",
            " [[4 5 6]\n",
            " [7 8 9]]\n",
            "array2d[1:3, :]\n",
            " [[4 5 6]\n",
            " [7 8 9]]\n",
            "array2d[:, :]\n",
            " [[1 2 3]\n",
            " [4 5 6]\n",
            " [7 8 9]]\n",
            "array2d[:2, 1:]\n",
            " [[2 3]\n",
            " [5 6]]\n",
            "array2d[:2, 0]\n",
            " [1 4]\n"
          ]
        }
      ]
    },
    {
      "cell_type": "markdown",
      "source": [
        ">> 행, 열 각각의 인덱스에 슬라이싱 적용\n",
        "\n",
        ">> `array2d[:2, 0]`과 같이 한 쪽에는 슬라이싱, 한 쪽에는 단일 값 인덱스를 적용해도 됨"
      ],
      "metadata": {
        "id": "HnOxUXFsMY3L"
      }
    },
    {
      "cell_type": "code",
      "source": [
        "print(array2d[0])\n",
        "print(array2d[1])\n",
        "print('array2d[0] shape:', array2d[0].shape, 'array2d[1] shape:', array2d[1].shape)"
      ],
      "metadata": {
        "colab": {
          "base_uri": "https://localhost:8080/"
        },
        "id": "Kayxb-_pNOfx",
        "outputId": "d372d347-62be-4656-acf4-f9159cbffef5"
      },
      "execution_count": 42,
      "outputs": [
        {
          "output_type": "stream",
          "name": "stdout",
          "text": [
            "[1 2 3]\n",
            "[4 5 6]\n",
            "array2d[0] shape: (3,) array2d[1] shape: (3,)\n"
          ]
        }
      ]
    },
    {
      "cell_type": "markdown",
      "source": [
        ">> `array2d[0]`: 첫 번째 행 ndarray 반환\n",
        "\n",
        ">> 2차원 ndarray에서 뒤에 오는 인덱스를 없애면 1차원 ndarray를 반환\n",
        "\n",
        ">> 3차원 ndarray에서 뒤에 오는 인덱스를 없애면 2차원 ndarray를 반환"
      ],
      "metadata": {
        "id": "e-37-3mBNgco"
      }
    },
    {
      "cell_type": "markdown",
      "source": [
        "---\n",
        "\n",
        "#### **5-3. 팬시 인덱싱**"
      ],
      "metadata": {
        "id": "f_-owacHO0S2"
      }
    },
    {
      "cell_type": "code",
      "source": [
        "array1d = np.arange(start=1, stop=10)\n",
        "array2d = array1d.reshape(3,3)\n",
        "\n",
        "array3 = array2d[[0,1], 2]\n",
        "print('array2d[[0,1], 2] =>',array3.tolist())\n",
        "\n",
        "array4 = array2d[[0,1], 0:2]\n",
        "print('array2d[[0,1], 0:2] =>',array4.tolist())\n",
        "\n",
        "array5 = array2d[[0,1]]\n",
        "print('array2d[[0,1]] =>', array5.tolist())"
      ],
      "metadata": {
        "colab": {
          "base_uri": "https://localhost:8080/"
        },
        "id": "kvcGnwWKPIXf",
        "outputId": "7f27ece7-7545-433a-d472-59cd553b1cd7"
      },
      "execution_count": 43,
      "outputs": [
        {
          "output_type": "stream",
          "name": "stdout",
          "text": [
            "array2d[[0,1], 2] => [3, 6]\n",
            "array2d[[0,1], 0:2] => [[1, 2], [4, 5]]\n",
            "array2d[[0,1]] => [[1, 2, 3], [4, 5, 6]]\n"
          ]
        }
      ]
    },
    {
      "cell_type": "markdown",
      "source": [
        ">> `array2d[[0,1], 2]` -> 1, 2행 + 3열\n",
        "\n",
        ">> `array2d[[0,1], 0:2]` -> 1, 2행 + 1, 2열\n",
        "\n",
        ">> `array2d[[0,1]]` -> 1, 2행 + 모든 열"
      ],
      "metadata": {
        "id": "5m-yS2EPPcz5"
      }
    },
    {
      "cell_type": "markdown",
      "source": [
        "---\n",
        "#### **5-4. 불린 인덱싱**"
      ],
      "metadata": {
        "id": "WerAnP_wQUIc"
      }
    },
    {
      "cell_type": "code",
      "source": [
        "array1d = np.arange(start=1, stop=10)\n",
        "# [] 안에 array1d>5 Boolean indexing을 적용\n",
        "array3 = array1d[array1d>5]\n",
        "print('array1d>5 불린 인덱싱 결과 값:',array3)"
      ],
      "metadata": {
        "colab": {
          "base_uri": "https://localhost:8080/"
        },
        "id": "AYrBqsuOQsXd",
        "outputId": "522e47ab-8138-42bc-f06c-32c2b9780fe2"
      },
      "execution_count": 44,
      "outputs": [
        {
          "output_type": "stream",
          "name": "stdout",
          "text": [
            "array1d>5 불린 인덱싱 결과 값: [6 7 8 9]\n"
          ]
        }
      ]
    },
    {
      "cell_type": "code",
      "source": [
        "array1d > 5"
      ],
      "metadata": {
        "colab": {
          "base_uri": "https://localhost:8080/"
        },
        "id": "hVvagyxIQ79M",
        "outputId": "eeaac64e-8639-49f3-9790-7bc234a94210"
      },
      "execution_count": 45,
      "outputs": [
        {
          "output_type": "execute_result",
          "data": {
            "text/plain": [
              "array([False, False, False, False, False,  True,  True,  True,  True])"
            ]
          },
          "metadata": {},
          "execution_count": 45
        }
      ]
    },
    {
      "cell_type": "markdown",
      "source": [
        ">> False, True로 이루어진 ndarray 객체 반환\n",
        "\n",
        ">> 조건에 만족하는 데이터가 있는 위치는 True 값이, 그렇지 않으면 False 값이 반환"
      ],
      "metadata": {
        "id": "PHW1KHekRDvl"
      }
    },
    {
      "cell_type": "code",
      "source": [
        "boolean_indexes = np.array([False,False,False,False,False,True,True,True,True])\n",
        "array3 = array1d[boolean_indexes]\n",
        "print('불린 인덱스로 필터링 결과:', array3)"
      ],
      "metadata": {
        "colab": {
          "base_uri": "https://localhost:8080/"
        },
        "id": "Gd8e2D6TRo0j",
        "outputId": "3b15826e-978c-4b65-e9e4-107a63652e67"
      },
      "execution_count": 46,
      "outputs": [
        {
          "output_type": "stream",
          "name": "stdout",
          "text": [
            "불린 인덱스로 필터링 결과: [6 7 8 9]\n"
          ]
        }
      ]
    },
    {
      "cell_type": "markdown",
      "source": [
        ">> True 값에 해당하는 위치의 데이터만 반환"
      ],
      "metadata": {
        "id": "virppiWFRvV-"
      }
    },
    {
      "cell_type": "code",
      "source": [
        "indexes = np.array([5,6,7,8])\n",
        "array4 = array1d[indexes]\n",
        "print('일반 인덱스로 필터링 결과:',array4)"
      ],
      "metadata": {
        "colab": {
          "base_uri": "https://localhost:8080/"
        },
        "id": "mz0rc5ZsSG7n",
        "outputId": "e5e64d86-1139-441e-eff3-b872b5ce2491"
      },
      "execution_count": 47,
      "outputs": [
        {
          "output_type": "stream",
          "name": "stdout",
          "text": [
            "일반 인덱스로 필터링 결과: [6 7 8 9]\n"
          ]
        }
      ]
    },
    {
      "cell_type": "markdown",
      "source": [
        "---\n",
        "#### **6. 행렬의 정렬 - sort()와 argsort()**\n",
        "\n",
        "1) `np.sort(인자)`: 원 행렬은 그대로 유지, 원 행렬의 정렬된 행렬 반환\n",
        "\n",
        "2) `인자.sort()`: 원 행렬 자체를 정렬 형태로 변환, 반환 값은 None\n",
        "\n",
        "3) `np.argsort(인자)`: 정렬된 행렬에서 차례로로 원본 행렬 인덱스를 반환 "
      ],
      "metadata": {
        "id": "q0NoAH1MSdM_"
      }
    },
    {
      "cell_type": "markdown",
      "source": [
        "---\n",
        "\n",
        "#### **6-1. 행렬 정렬**"
      ],
      "metadata": {
        "id": "UCwkybiNvkof"
      }
    },
    {
      "cell_type": "code",
      "source": [
        "org_array = np.array([3,1,9,5])\n",
        "print('원본 행렬:', org_array)\n",
        "# np.sort()로 정렬렬\n",
        "sort_array1 = np.sort(org_array)\n",
        "print('np.sort() 호출 후 반환된 정렬 행렬:', sort_array1)\n",
        "print('np.sort() 호출 후 원본 행렬:', org_array)\n",
        "# ndarray.sort()로 정렬렬\n",
        "sort_array2 = org_array.sort()\n",
        "print('org_array.sort() 호출 후 반환된 행렬:', sort_array2)\n",
        "print('org_array.sort() 호출 후 원본 행렬:', org_array)"
      ],
      "metadata": {
        "colab": {
          "base_uri": "https://localhost:8080/"
        },
        "id": "j9u4fDFttmTo",
        "outputId": "6300760d-ca87-408a-b991-e57776fd0e3e"
      },
      "execution_count": 48,
      "outputs": [
        {
          "output_type": "stream",
          "name": "stdout",
          "text": [
            "원본 행렬: [3 1 9 5]\n",
            "np.sort() 호출 후 반환된 정렬 행렬: [1 3 5 9]\n",
            "np.sort() 호출 후 원본 행렬: [3 1 9 5]\n",
            "org_array.sort() 호출 후 반환된 행렬: None\n",
            "org_array.sort() 호출 후 원본 행렬: [1 3 5 9]\n"
          ]
        }
      ]
    },
    {
      "cell_type": "markdown",
      "source": [
        ">> 기본적으로 오름차순으로 행렬 내 원소 정렬"
      ],
      "metadata": {
        "id": "3zrc7ZBGucXj"
      }
    },
    {
      "cell_type": "code",
      "source": [
        "sort_array1_desc = np.sort(org_array)[::-1]\n",
        "print('내림차순으로 정렬:', sort_array1_desc) "
      ],
      "metadata": {
        "colab": {
          "base_uri": "https://localhost:8080/"
        },
        "id": "rJ06swQJtnPR",
        "outputId": "970cf39f-e4e6-4ab2-af25-ad6352bf7d4d"
      },
      "execution_count": 49,
      "outputs": [
        {
          "output_type": "stream",
          "name": "stdout",
          "text": [
            "내림차순으로 정렬: [9 5 3 1]\n"
          ]
        }
      ]
    },
    {
      "cell_type": "markdown",
      "source": [
        ">> 내림차순 정렬: `np.sort()[::-1]`"
      ],
      "metadata": {
        "id": "VEeXu3HZuo_q"
      }
    },
    {
      "cell_type": "code",
      "source": [
        "array2d = np.array([[8,12],\n",
        "                   [7,1]])\n",
        "sort_array2d_axis0 = np.sort(array2d, axis=0)\n",
        "print('로우 방향으로 정렬:\\n', sort_array2d_axis0)\n",
        "\n",
        "sort_array2d_axis1 = np.sort(array2d, axis=1)\n",
        "print('칼럼 방향으로 정렬:\\n', sort_array2d_axis1)"
      ],
      "metadata": {
        "colab": {
          "base_uri": "https://localhost:8080/"
        },
        "id": "6sLDx_13tnT0",
        "outputId": "ff09ad19-6330-43db-8695-52b7718f0916"
      },
      "execution_count": 50,
      "outputs": [
        {
          "output_type": "stream",
          "name": "stdout",
          "text": [
            "로우 방향으로 정렬:\n",
            " [[ 7  1]\n",
            " [ 8 12]]\n",
            "칼럼 방향으로 정렬:\n",
            " [[ 8 12]\n",
            " [ 1  7]]\n"
          ]
        }
      ]
    },
    {
      "cell_type": "markdown",
      "source": [
        ">> `axis=0`: 행 방향 축, 열 방향으로 정렬\n",
        "\n",
        ">> `axis=1`: 열 방향 축, 행 방향으로 정렬렬"
      ],
      "metadata": {
        "id": "ucdDWPk0vNk9"
      }
    },
    {
      "cell_type": "markdown",
      "source": [
        "#### **6-2. 정렬된 행렬의 인덱스를 반환하기**\n",
        "\n"
      ],
      "metadata": {
        "id": "vGxJ_FiKv0po"
      }
    },
    {
      "cell_type": "code",
      "source": [
        "org_array = np.array([3,1,9,5])\n",
        "sort_indices = np.argsort(org_array)\n",
        "print(type(sort_indices))\n",
        "print('행렬 정렬 시 원본 행렬의 인덱스:', sort_indices) "
      ],
      "metadata": {
        "colab": {
          "base_uri": "https://localhost:8080/"
        },
        "id": "jFmFEYdPtnXe",
        "outputId": "13f8ab98-1847-492f-eda2-31a1e6224eb6"
      },
      "execution_count": 51,
      "outputs": [
        {
          "output_type": "stream",
          "name": "stdout",
          "text": [
            "<class 'numpy.ndarray'>\n",
            "행렬 정렬 시 원본 행렬의 인덱스: [1 0 3 2]\n"
          ]
        }
      ]
    },
    {
      "cell_type": "code",
      "source": [
        "org_array = np.array([3,1,9,5])\n",
        "sort_indices_desc=np.argsort(org_array)[::-1]\n",
        "print('행렬 내림차순 정렬 시 원본 행렬의 인덱스:', sort_indices_desc) "
      ],
      "metadata": {
        "colab": {
          "base_uri": "https://localhost:8080/"
        },
        "id": "RDCSbFultnZ8",
        "outputId": "f75d3e5c-9782-4896-ee55-dbe9782ff578"
      },
      "execution_count": 52,
      "outputs": [
        {
          "output_type": "stream",
          "name": "stdout",
          "text": [
            "행렬 내림차순 정렬 시 원본 행렬의 인덱스: [2 3 0 1]\n"
          ]
        }
      ]
    },
    {
      "cell_type": "code",
      "source": [
        "name_array = np.array(['John', 'Mike', 'Sarah', 'Kate', 'Samuel'])\n",
        "score_array = np.array([78, 95, 84, 98, 88])\n",
        "\n",
        "sort_indices_asc = np.argsort(score_array)\n",
        "print('성적 오름차순 정렬시 score_array의 인덱스:', sort_indices_asc)\n",
        "print('성적 오름차순 정렬시 name_array의 이름 출력:', name_array[sort_indices_asc])"
      ],
      "metadata": {
        "colab": {
          "base_uri": "https://localhost:8080/"
        },
        "id": "8h1_46-Otncj",
        "outputId": "d4dfc980-206d-4deb-add7-c14fb40158e0"
      },
      "execution_count": 53,
      "outputs": [
        {
          "output_type": "stream",
          "name": "stdout",
          "text": [
            "성적 오름차순 정렬시 score_array의 인덱스: [0 2 4 1 3]\n",
            "성적 오름차순 정렬시 name_array의 이름 출력: ['John' 'Sarah' 'Samuel' 'Mike' 'Kate']\n"
          ]
        }
      ]
    },
    {
      "cell_type": "markdown",
      "source": [
        ">> `np.argsort()`를 이용해 반환된 인덱스를 다른 ndarray에 팬시 인덱스로 적용시킬 수 있음"
      ],
      "metadata": {
        "id": "q3f39QaCyuPD"
      }
    },
    {
      "cell_type": "markdown",
      "source": [
        "---\n",
        "#### **7. 선행대수 연산 - 행렬 내적과 전치 행렬 구하기**\n",
        "\n",
        " 1) `np.dot(A, B)`: A와 B의 행렬 내적(행렬 곱)\n",
        "\n",
        " 2) `tranpose()`: 전치 행렬"
      ],
      "metadata": {
        "id": "3v6XuFs2zOS4"
      }
    },
    {
      "cell_type": "code",
      "source": [
        "A = np.array([[1,2,3],\n",
        "             [4,5,6]])\n",
        "B = np.array([[7,8],\n",
        "             [9,10],\n",
        "             [11,12]])\n",
        "\n",
        "dot_product = np.dot(A,B)\n",
        "print('행렬 내적 결과:\\n', dot_product)"
      ],
      "metadata": {
        "colab": {
          "base_uri": "https://localhost:8080/"
        },
        "id": "Tbnj3QPNz1LD",
        "outputId": "1f96026a-dd8f-4f63-bdc6-a79a013c9250"
      },
      "execution_count": 54,
      "outputs": [
        {
          "output_type": "stream",
          "name": "stdout",
          "text": [
            "행렬 내적 결과:\n",
            " [[ 58  64]\n",
            " [139 154]]\n"
          ]
        }
      ]
    },
    {
      "cell_type": "code",
      "source": [
        "A = np.array([[1,2],\n",
        "             [3,4]])\n",
        "\n",
        "transpose_mat = np.transpose(A)\n",
        "print('A의 전치 행렬:\\n', transpose_mat)"
      ],
      "metadata": {
        "colab": {
          "base_uri": "https://localhost:8080/"
        },
        "id": "2Wczeqip0QnO",
        "outputId": "e34b0f19-721b-4c44-fb79-ba4f0ea798ec"
      },
      "execution_count": 55,
      "outputs": [
        {
          "output_type": "stream",
          "name": "stdout",
          "text": [
            "A의 전치 행렬:\n",
            " [[1 3]\n",
            " [2 4]]\n"
          ]
        }
      ]
    }
  ]
}